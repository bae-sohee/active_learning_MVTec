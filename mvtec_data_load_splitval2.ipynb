{
 "cells": [
  {
   "cell_type": "code",
   "execution_count": 1,
   "metadata": {},
   "outputs": [
    {
     "name": "stderr",
     "output_type": "stream",
     "text": [
      "/home/iai/anaconda3/envs/bsh/lib/python3.8/site-packages/tqdm/auto.py:22: TqdmWarning: IProgress not found. Please update jupyter and ipywidgets. See https://ipywidgets.readthedocs.io/en/stable/user_install.html\n",
      "  from .autonotebook import tqdm as notebook_tqdm\n"
     ]
    },
    {
     "name": "stdout",
     "output_type": "stream",
     "text": [
      "Train size( good ):  2457\n",
      "Validation size( good ):  819\n",
      "Test size( good ):  820\n",
      "Train size( anomaly ):  131\n",
      "Validation size( anomaly ):  43\n",
      "Test size( anomaly ):  44\n",
      "2588\n",
      "862\n",
      "864\n",
      "['good', 'anomaly']\n",
      "4314\n"
     ]
    }
   ],
   "source": [
    "# Split Dataset\n",
    "\n",
    "import os\n",
    "import shutil\n",
    "from torchvision.datasets import ImageFolder\n",
    "\n",
    "original_dataset_dir = '/home/iai/Desktop/bsh/active_learning/data/mvtec2_re'\n",
    "classes_list = os.listdir(original_dataset_dir)\n",
    "\n",
    "base_dir = '/home/iai/Desktop/bsh/active_learning/data/splittedval2_re_cutpaste'\n",
    "os.mkdir(base_dir)\n",
    "\n",
    "train_dir = os.path.join(base_dir, 'train')\n",
    "os.mkdir(train_dir)\n",
    "validation_dir = os.path.join(base_dir, 'val')\n",
    "os.mkdir(validation_dir)\n",
    "test_dir = os.path.join(base_dir, 'test')\n",
    "os.mkdir(test_dir)\n",
    "\n",
    "# train,validation,test 폴더 하위에 각각 클래스 목록 폴더 생성\n",
    "for clss in classes_list:\n",
    "    os.mkdir(os.path.join(train_dir,clss))\n",
    "    os.mkdir(os.path.join(validation_dir,clss))\n",
    "    os.mkdir(os.path.join(test_dir,clss))\n",
    "\n",
    "# [데이터 분할과 클래스별 데이터 수 확인]\n",
    "import math\n",
    "\n",
    "for clss in classes_list:\n",
    "    path = os.path.join(original_dataset_dir,clss)\n",
    "    fnames = os.listdir(path)\n",
    "    \n",
    "    train_size = math.floor(len(fnames)*0.6)\n",
    "    validation_size = math.floor(len(fnames)*0.2)\n",
    "    test_size = math.floor(len(fnames)*0.2)\n",
    "    \n",
    "    train_fnames = fnames[:train_size]\n",
    "    print('Train size(',clss,'): ', len(train_fnames))\n",
    "    for fname in train_fnames:\n",
    "        src = os.path.join(path, fname)\n",
    "        dst = os.path.join(os.path.join(train_dir, clss), fname)\n",
    "        shutil.copyfile(src,dst)\n",
    "\n",
    "    validation_fnames = fnames[train_size:(validation_size + train_size)]\n",
    "    print('Validation size(',clss,'): ', len(validation_fnames))\n",
    "    for fname in validation_fnames:\n",
    "        src = os.path.join(path, fname)\n",
    "        dst = os.path.join(os.path.join(validation_dir,clss),fname)\n",
    "        shutil.copyfile(src,dst)\n",
    "        \n",
    "    test_fnames = fnames[train_size:(train_size+test_size)+1]\n",
    "    print('Test size(',clss,'): ', len(test_fnames))\n",
    "    for fname in test_fnames:\n",
    "        src = os.path.join(path, fname)\n",
    "        dst = os.path.join(os.path.join(test_dir, clss),fname)\n",
    "        shutil.copyfile(src,dst)\n",
    "\n",
    "train_dir = ImageFolder(root='/home/iai/Desktop/bsh/active_learning/data/splittedval2_re_cutpaste/train')\n",
    "val_dir = ImageFolder(root='/home/iai/Desktop/bsh/active_learning/data/splittedval2_re_cutpaste/val')\n",
    "test_dir = ImageFolder(root='/home/iai/Desktop/bsh/active_learning/data/splittedval2_re_cutpaste/test')\n",
    "\n",
    "\n",
    "print(len(train_dir))\n",
    "print(len(val_dir))\n",
    "print(len(test_dir))\n",
    "\n",
    "print(classes_list)\n",
    "print(len(train_dir)+len(val_dir)+len(test_dir))"
   ]
  }
 ],
 "metadata": {
  "kernelspec": {
   "display_name": "bsh",
   "language": "python",
   "name": "python3"
  },
  "language_info": {
   "codemirror_mode": {
    "name": "ipython",
    "version": 3
   },
   "file_extension": ".py",
   "mimetype": "text/x-python",
   "name": "python",
   "nbconvert_exporter": "python",
   "pygments_lexer": "ipython3",
   "version": "3.8.15"
  },
  "orig_nbformat": 4
 },
 "nbformat": 4,
 "nbformat_minor": 2
}
